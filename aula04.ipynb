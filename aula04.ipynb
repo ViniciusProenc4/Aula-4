{
  "nbformat": 4,
  "nbformat_minor": 0,
  "metadata": {
    "colab": {
      "provenance": [],
      "authorship_tag": "ABX9TyMM3UImDTggWFt6BUCzIreC",
      "include_colab_link": true
    },
    "kernelspec": {
      "name": "python3",
      "display_name": "Python 3"
    },
    "language_info": {
      "name": "python"
    }
  },
  "cells": [
    {
      "cell_type": "markdown",
      "metadata": {
        "id": "view-in-github",
        "colab_type": "text"
      },
      "source": [
        "<a href=\"https://colab.research.google.com/github/ViniciusProenc4/Aula-4/blob/exemplo-02/aula04.ipynb\" target=\"_parent\"><img src=\"https://colab.research.google.com/assets/colab-badge.svg\" alt=\"Open In Colab\"/></a>"
      ]
    },
    {
      "cell_type": "code",
      "execution_count": 3,
      "metadata": {
        "colab": {
          "base_uri": "https://localhost:8080/"
        },
        "id": "A_xNf3GQ3vkU",
        "outputId": "6b1518c1-da74-438a-905d-e3e0f5d57e5d"
      },
      "outputs": [
        {
          "output_type": "stream",
          "name": "stdout",
          "text": [
            "Hello World\n",
            "Seja bem-vindo à primeira aula de linguagem de programação! :D\n",
            "Daqui para frente você se apaixona! <3\n"
          ]
        }
      ],
      "source": [
        "print(\"Hello World\")\n",
        "\n",
        "print(\"Seja bem-vindo à primeira aula de linguagem de programação! :D\")\n",
        "print(\"Daqui para frente você se apaixona! <3\")"
      ]
    }
  ]
}